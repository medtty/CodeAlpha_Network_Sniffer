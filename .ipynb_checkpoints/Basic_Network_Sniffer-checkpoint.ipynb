{
 "cells": [
  {
   "cell_type": "markdown",
   "id": "c02b05a0-4898-498b-9d0c-76dee7a375d1",
   "metadata": {},
   "source": [
    "## Task\n",
    "\n",
    "Build a network sniffer in Python that captures and analyzes network traffic. This project will help you understand how data flows on a network and how network packets are structured."
   ]
  },
  {
   "cell_type": "code",
   "execution_count": 1,
   "id": "2c36e278-19e5-4c9e-ab73-aed5ba2c60ab",
   "metadata": {},
   "outputs": [
    {
     "name": "stdout",
     "output_type": "stream",
     "text": [
      "Collecting scapy\n",
      "  Downloading scapy-2.5.0.tar.gz (1.3 MB)\n",
      "\u001b[2K     \u001b[38;2;114;156;31m━━━━━━━━━━━━━━━━━━━━━━━━━━━━━━━━━━━━━━━━\u001b[0m \u001b[32m1.3/1.3 MB\u001b[0m \u001b[31m2.6 MB/s\u001b[0m eta \u001b[36m0:00:00\u001b[0m[31m2.6 MB/s\u001b[0m eta \u001b[36m0:00:01\u001b[0m0m\n",
      "\u001b[?25h  Installing build dependencies ... \u001b[?25ldone\n",
      "\u001b[?25h  Getting requirements to build wheel ... \u001b[?25ldone\n",
      "\u001b[?25h  Preparing metadata (pyproject.toml) ... \u001b[?25ldone\n",
      "\u001b[?25hBuilding wheels for collected packages: scapy\n",
      "  Building wheel for scapy (pyproject.toml) ... \u001b[?25ldone\n",
      "\u001b[?25h  Created wheel for scapy: filename=scapy-2.5.0-py2.py3-none-any.whl size=1444330 sha256=b5e47f2bf5695d7669de2ceef7f16909b5c675af8f6bbff6fc4f7b9230123bdc\n",
      "  Stored in directory: /Users/macbookpro/Library/Caches/pip/wheels/8a/5e/7c/6f92df559dadf49d0e31cecdd5b104fc8c38a7c67fde16b029\n",
      "Successfully built scapy\n",
      "Installing collected packages: scapy\n",
      "Successfully installed scapy-2.5.0\n",
      "\n",
      "\u001b[1m[\u001b[0m\u001b[34;49mnotice\u001b[0m\u001b[1;39;49m]\u001b[0m\u001b[39;49m A new release of pip is available: \u001b[0m\u001b[31;49m24.0\u001b[0m\u001b[39;49m -> \u001b[0m\u001b[32;49m24.1.1\u001b[0m\n",
      "\u001b[1m[\u001b[0m\u001b[34;49mnotice\u001b[0m\u001b[1;39;49m]\u001b[0m\u001b[39;49m To update, run: \u001b[0m\u001b[32;49mpip install --upgrade pip\u001b[0m\n",
      "Note: you may need to restart the kernel to use updated packages.\n"
     ]
    }
   ],
   "source": [
    "pip install scapy"
   ]
  },
  {
   "cell_type": "code",
   "execution_count": 2,
   "id": "4492cec9-b53c-44a2-aaa4-29f54b808ad2",
   "metadata": {},
   "outputs": [
    {
     "name": "stderr",
     "output_type": "stream",
     "text": [
      "WARNING: No IPv4 address found on awdl0 !\n",
      "WARNING: No IPv4 address found on llw0 !\n",
      "WARNING: more No IPv4 address found on en2 !\n"
     ]
    },
    {
     "name": "stdout",
     "output_type": "stream",
     "text": [
      "Starting network sniffer...\n"
     ]
    },
    {
     "ename": "Scapy_Exception",
     "evalue": "Permission denied: could not open /dev/bpf0. Make sure to be running Scapy as root ! (sudo)",
     "output_type": "error",
     "traceback": [
      "\u001b[0;31m---------------------------------------------------------------------------\u001b[0m",
      "\u001b[0;31mPermissionError\u001b[0m                           Traceback (most recent call last)",
      "File \u001b[0;32m/Library/Frameworks/Python.framework/Versions/3.12/lib/python3.12/site-packages/scapy/arch/bpf/core.py:147\u001b[0m, in \u001b[0;36mget_dev_bpf\u001b[0;34m()\u001b[0m\n\u001b[1;32m    146\u001b[0m \u001b[38;5;28;01mtry\u001b[39;00m:\n\u001b[0;32m--> 147\u001b[0m     fd \u001b[38;5;241m=\u001b[39m \u001b[43mos\u001b[49m\u001b[38;5;241;43m.\u001b[39;49m\u001b[43mopen\u001b[49m\u001b[43m(\u001b[49m\u001b[38;5;124;43m\"\u001b[39;49m\u001b[38;5;124;43m/dev/bpf\u001b[39;49m\u001b[38;5;132;43;01m%i\u001b[39;49;00m\u001b[38;5;124;43m\"\u001b[39;49m\u001b[43m \u001b[49m\u001b[38;5;241;43m%\u001b[39;49m\u001b[43m \u001b[49m\u001b[43mbpf\u001b[49m\u001b[43m,\u001b[49m\u001b[43m \u001b[49m\u001b[43mos\u001b[49m\u001b[38;5;241;43m.\u001b[39;49m\u001b[43mO_RDWR\u001b[49m\u001b[43m)\u001b[49m\n\u001b[1;32m    148\u001b[0m     \u001b[38;5;28;01mreturn\u001b[39;00m (fd, bpf)\n",
      "\u001b[0;31mPermissionError\u001b[0m: [Errno 13] Permission denied: '/dev/bpf0'",
      "\nDuring handling of the above exception, another exception occurred:\n",
      "\u001b[0;31mScapy_Exception\u001b[0m                           Traceback (most recent call last)",
      "Cell \u001b[0;32mIn[2], line 42\u001b[0m\n\u001b[1;32m     40\u001b[0m \u001b[38;5;66;03m# Start sniffing (use appropriate network interface, e.g., 'en0' for Wi-Fi on Mac)\u001b[39;00m\n\u001b[1;32m     41\u001b[0m \u001b[38;5;28mprint\u001b[39m(\u001b[38;5;124m\"\u001b[39m\u001b[38;5;124mStarting network sniffer...\u001b[39m\u001b[38;5;124m\"\u001b[39m)\n\u001b[0;32m---> 42\u001b[0m \u001b[43msniff\u001b[49m\u001b[43m(\u001b[49m\u001b[43mprn\u001b[49m\u001b[38;5;241;43m=\u001b[39;49m\u001b[43mpacket_callback\u001b[49m\u001b[43m)\u001b[49m  \u001b[38;5;66;03m# Remove count to keep it running indefinitely\u001b[39;00m\n",
      "File \u001b[0;32m/Library/Frameworks/Python.framework/Versions/3.12/lib/python3.12/site-packages/scapy/sendrecv.py:1311\u001b[0m, in \u001b[0;36msniff\u001b[0;34m(*args, **kwargs)\u001b[0m\n\u001b[1;32m   1307\u001b[0m \u001b[38;5;129m@conf\u001b[39m\u001b[38;5;241m.\u001b[39mcommands\u001b[38;5;241m.\u001b[39mregister\n\u001b[1;32m   1308\u001b[0m \u001b[38;5;28;01mdef\u001b[39;00m \u001b[38;5;21msniff\u001b[39m(\u001b[38;5;241m*\u001b[39margs, \u001b[38;5;241m*\u001b[39m\u001b[38;5;241m*\u001b[39mkwargs):\n\u001b[1;32m   1309\u001b[0m     \u001b[38;5;66;03m# type: (*Any, **Any) -> PacketList\u001b[39;00m\n\u001b[1;32m   1310\u001b[0m     sniffer \u001b[38;5;241m=\u001b[39m AsyncSniffer()\n\u001b[0;32m-> 1311\u001b[0m     \u001b[43msniffer\u001b[49m\u001b[38;5;241;43m.\u001b[39;49m\u001b[43m_run\u001b[49m\u001b[43m(\u001b[49m\u001b[38;5;241;43m*\u001b[39;49m\u001b[43margs\u001b[49m\u001b[43m,\u001b[49m\u001b[43m \u001b[49m\u001b[38;5;241;43m*\u001b[39;49m\u001b[38;5;241;43m*\u001b[39;49m\u001b[43mkwargs\u001b[49m\u001b[43m)\u001b[49m\n\u001b[1;32m   1312\u001b[0m     \u001b[38;5;28;01mreturn\u001b[39;00m cast(PacketList, sniffer\u001b[38;5;241m.\u001b[39mresults)\n",
      "File \u001b[0;32m/Library/Frameworks/Python.framework/Versions/3.12/lib/python3.12/site-packages/scapy/sendrecv.py:1171\u001b[0m, in \u001b[0;36mAsyncSniffer._run\u001b[0;34m(self, count, store, offline, quiet, prn, lfilter, L2socket, timeout, opened_socket, stop_filter, iface, started_callback, session, session_kwargs, **karg)\u001b[0m\n\u001b[1;32m   1169\u001b[0m     \u001b[38;5;28;01melse\u001b[39;00m:\n\u001b[1;32m   1170\u001b[0m         iface \u001b[38;5;241m=\u001b[39m iface \u001b[38;5;129;01mor\u001b[39;00m conf\u001b[38;5;241m.\u001b[39miface\n\u001b[0;32m-> 1171\u001b[0m         sniff_sockets[\u001b[43m_RL2\u001b[49m\u001b[43m(\u001b[49m\u001b[43miface\u001b[49m\u001b[43m)\u001b[49m\u001b[43m(\u001b[49m\u001b[38;5;28;43mtype\u001b[39;49m\u001b[38;5;241;43m=\u001b[39;49m\u001b[43mETH_P_ALL\u001b[49m\u001b[43m,\u001b[49m\u001b[43m \u001b[49m\u001b[43miface\u001b[49m\u001b[38;5;241;43m=\u001b[39;49m\u001b[43miface\u001b[49m\u001b[43m,\u001b[49m\n\u001b[1;32m   1172\u001b[0m \u001b[43m                                  \u001b[49m\u001b[38;5;241;43m*\u001b[39;49m\u001b[38;5;241;43m*\u001b[39;49m\u001b[43mkarg\u001b[49m\u001b[43m)\u001b[49m] \u001b[38;5;241m=\u001b[39m iface\n\u001b[1;32m   1174\u001b[0m \u001b[38;5;66;03m# Get select information from the sockets\u001b[39;00m\n\u001b[1;32m   1175\u001b[0m _main_socket \u001b[38;5;241m=\u001b[39m \u001b[38;5;28mnext\u001b[39m(\u001b[38;5;28miter\u001b[39m(sniff_sockets))\n",
      "File \u001b[0;32m/Library/Frameworks/Python.framework/Versions/3.12/lib/python3.12/site-packages/scapy/arch/bpf/supersocket.py:331\u001b[0m, in \u001b[0;36mL2bpfListenSocket.__init__\u001b[0;34m(self, *args, **kwargs)\u001b[0m\n\u001b[1;32m    329\u001b[0m \u001b[38;5;28;01mdef\u001b[39;00m \u001b[38;5;21m__init__\u001b[39m(\u001b[38;5;28mself\u001b[39m, \u001b[38;5;241m*\u001b[39margs, \u001b[38;5;241m*\u001b[39m\u001b[38;5;241m*\u001b[39mkwargs):\n\u001b[1;32m    330\u001b[0m     \u001b[38;5;28mself\u001b[39m\u001b[38;5;241m.\u001b[39mreceived_frames \u001b[38;5;241m=\u001b[39m []\n\u001b[0;32m--> 331\u001b[0m     \u001b[38;5;28;43msuper\u001b[39;49m\u001b[43m(\u001b[49m\u001b[43mL2bpfListenSocket\u001b[49m\u001b[43m,\u001b[49m\u001b[43m \u001b[49m\u001b[38;5;28;43mself\u001b[39;49m\u001b[43m)\u001b[49m\u001b[38;5;241;43m.\u001b[39;49m\u001b[38;5;21;43m__init__\u001b[39;49m\u001b[43m(\u001b[49m\u001b[38;5;241;43m*\u001b[39;49m\u001b[43margs\u001b[49m\u001b[43m,\u001b[49m\u001b[43m \u001b[49m\u001b[38;5;241;43m*\u001b[39;49m\u001b[38;5;241;43m*\u001b[39;49m\u001b[43mkwargs\u001b[49m\u001b[43m)\u001b[49m\n",
      "File \u001b[0;32m/Library/Frameworks/Python.framework/Versions/3.12/lib/python3.12/site-packages/scapy/arch/bpf/supersocket.py:108\u001b[0m, in \u001b[0;36m_L2bpfSocket.__init__\u001b[0;34m(self, iface, type, promisc, filter, nofilter, monitor)\u001b[0m\n\u001b[1;32m    106\u001b[0m \u001b[38;5;66;03m# Get the BPF handle\u001b[39;00m\n\u001b[1;32m    107\u001b[0m \u001b[38;5;28mself\u001b[39m\u001b[38;5;241m.\u001b[39mins \u001b[38;5;241m=\u001b[39m \u001b[38;5;28;01mNone\u001b[39;00m\n\u001b[0;32m--> 108\u001b[0m (\u001b[38;5;28mself\u001b[39m\u001b[38;5;241m.\u001b[39mins, \u001b[38;5;28mself\u001b[39m\u001b[38;5;241m.\u001b[39mdev_bpf) \u001b[38;5;241m=\u001b[39m \u001b[43mget_dev_bpf\u001b[49m\u001b[43m(\u001b[49m\u001b[43m)\u001b[49m\n\u001b[1;32m    109\u001b[0m \u001b[38;5;28mself\u001b[39m\u001b[38;5;241m.\u001b[39mouts \u001b[38;5;241m=\u001b[39m \u001b[38;5;28mself\u001b[39m\u001b[38;5;241m.\u001b[39mins\n\u001b[1;32m    111\u001b[0m \u001b[38;5;28;01mif\u001b[39;00m FREEBSD:\n\u001b[1;32m    112\u001b[0m     \u001b[38;5;66;03m# Set the BPF timeval format. Availability issues here !\u001b[39;00m\n",
      "File \u001b[0;32m/Library/Frameworks/Python.framework/Versions/3.12/lib/python3.12/site-packages/scapy/arch/bpf/core.py:151\u001b[0m, in \u001b[0;36mget_dev_bpf\u001b[0;34m()\u001b[0m\n\u001b[1;32m    149\u001b[0m     \u001b[38;5;28;01mexcept\u001b[39;00m \u001b[38;5;167;01mOSError\u001b[39;00m \u001b[38;5;28;01mas\u001b[39;00m ex:\n\u001b[1;32m    150\u001b[0m         \u001b[38;5;28;01mif\u001b[39;00m ex\u001b[38;5;241m.\u001b[39merrno \u001b[38;5;241m==\u001b[39m \u001b[38;5;241m13\u001b[39m:  \u001b[38;5;66;03m# Permission denied\u001b[39;00m\n\u001b[0;32m--> 151\u001b[0m             \u001b[38;5;28;01mraise\u001b[39;00m Scapy_Exception((\n\u001b[1;32m    152\u001b[0m                 \u001b[38;5;124m\"\u001b[39m\u001b[38;5;124mPermission denied: could not open /dev/bpf\u001b[39m\u001b[38;5;132;01m%i\u001b[39;00m\u001b[38;5;124m. \u001b[39m\u001b[38;5;124m\"\u001b[39m\n\u001b[1;32m    153\u001b[0m                 \u001b[38;5;124m\"\u001b[39m\u001b[38;5;124mMake sure to be running Scapy as root ! (sudo)\u001b[39m\u001b[38;5;124m\"\u001b[39m\n\u001b[1;32m    154\u001b[0m             ) \u001b[38;5;241m%\u001b[39m bpf)\n\u001b[1;32m    155\u001b[0m         \u001b[38;5;28;01mcontinue\u001b[39;00m\n\u001b[1;32m    157\u001b[0m \u001b[38;5;28;01mraise\u001b[39;00m Scapy_Exception(\u001b[38;5;124m\"\u001b[39m\u001b[38;5;124mNo /dev/bpf handle is available !\u001b[39m\u001b[38;5;124m\"\u001b[39m)\n",
      "\u001b[0;31mScapy_Exception\u001b[0m: Permission denied: could not open /dev/bpf0. Make sure to be running Scapy as root ! (sudo)"
     ]
    }
   ],
   "source": [
    "from scapy.all impsort sniff, IP, TCP, UDP\n",
    "\n",
    "packet_count = 0  # Initialize a packet counter\n",
    "\n",
    "def packet_callback(packet):\n",
    "    global packet_count\n",
    "    packet_count += 1\n",
    "\n",
    "    # Initialize an empty dictionary to store important packet data\n",
    "    packet_data = {}\n",
    "\n",
    "    # Check if the packet has an IP layer\n",
    "    if IP in packet:\n",
    "        ip_layer = packet[IP]\n",
    "        packet_data[\"Source IP\"] = ip_layer.src\n",
    "        packet_data[\"Destination IP\"] = ip_layer.dst\n",
    "\n",
    "        # Check if the packet has a TCP layer\n",
    "        if TCP in packet:\n",
    "            tcp_layer = packet[TCP]\n",
    "            packet_data[\"Protocol\"] = \"TCP\"\n",
    "            packet_data[\"Source Port\"] = tcp_layer.sport\n",
    "            packet_data[\"Destination Port\"] = tcp_layer.dport\n",
    "\n",
    "        # Check if the packet has a UDP layer\n",
    "        elif UDP in packet:\n",
    "            udp_layer = packet[UDP]\n",
    "            packet_data[\"Protocol\"] = \"UDP\"\n",
    "            packet_data[\"Source Port\"] = udp_layer.sport\n",
    "            packet_data[\"Destination Port\"] = udp_layer.dport\n",
    "\n",
    "    # Print the important packet data\n",
    "    if packet_data:\n",
    "        print(f\"\\n{packet_count}. New Packet:\")\n",
    "        print(f\"    {'-'*20}\")\n",
    "        for key, value in packet_data.items():\n",
    "            print(f\"    {key}: {value}\")\n",
    "        print(f\"    {'-'*20}\")\n",
    "\n",
    "# Start sniffing (use appropriate network interface, e.g., 'en0' for Wi-Fi on Mac)\n",
    "print(\"Starting network sniffer...\")\n",
    "sniff(prn=packet_callback)  # Remove count to keep it running indefinitely"
   ]
  },
  {
   "cell_type": "code",
   "execution_count": null,
   "id": "69dc1400-0525-4d83-97a1-c0213b0099b5",
   "metadata": {},
   "outputs": [],
   "source": []
  }
 ],
 "metadata": {
  "kernelspec": {
   "display_name": "Python 3 (ipykernel)",
   "language": "python",
   "name": "python3"
  },
  "language_info": {
   "codemirror_mode": {
    "name": "ipython",
    "version": 3
   },
   "file_extension": ".py",
   "mimetype": "text/x-python",
   "name": "python",
   "nbconvert_exporter": "python",
   "pygments_lexer": "ipython3",
   "version": "3.12.1"
  }
 },
 "nbformat": 4,
 "nbformat_minor": 5
}
